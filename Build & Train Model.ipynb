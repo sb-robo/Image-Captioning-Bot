{
 "cells": [
  {
   "cell_type": "code",
   "execution_count": 1,
   "metadata": {},
   "outputs": [],
   "source": [
    "import pickle\n",
    "import numpy as np"
   ]
  },
  {
   "cell_type": "markdown",
   "metadata": {},
   "source": [
    "`Read all necessary files that we have save for future using purpose`\n",
    "\n",
    "- caption_dict -> Caption_description.pkl\n",
    "- train_caption -> train_description.pkl\n",
    "- word_to_idx -> Word_to_idx.pkl\n",
    "- idx_to_word -> Idx_to_word.pkl\n",
    "- emb_mat -> embedding_matrix.npy"
   ]
  },
  {
   "cell_type": "code",
   "execution_count": 5,
   "metadata": {},
   "outputs": [],
   "source": [
    "with open('./Caption_description.pkl', 'rb') as f:\n",
    "    caption_dict = pickle.load(f)\n",
    "    \n",
    "with open('./train_description.pkl', 'rb') as f:\n",
    "    train_caption = pickle.load(f)\n",
    "    \n",
    "with open('./Word_to_idx.pkl','rb') as f:\n",
    "    word_to_idx = pickle.load(f)\n",
    "    \n",
    "with open('./Idx_to_word.pkl','rb') as f:\n",
    "    idx_to_word = pickle.load(f)\n",
    "    \n",
    "with open('./embedding_matrix.npy','rb') as f:\n",
    "    emb_mat = np.load(f)"
   ]
  },
  {
   "cell_type": "code",
   "execution_count": 8,
   "metadata": {},
   "outputs": [
    {
     "data": {
      "text/plain": [
       "(1959, 50)"
      ]
     },
     "execution_count": 8,
     "metadata": {},
     "output_type": "execute_result"
    }
   ],
   "source": [
    "emb_mat.shape"
   ]
  },
  {
   "cell_type": "markdown",
   "metadata": {},
   "source": [
    "### Model Architecture"
   ]
  },
  {
   "cell_type": "code",
   "execution_count": 10,
   "metadata": {},
   "outputs": [],
   "source": [
    "from keras.models import Model\n",
    "from keras.layers import *"
   ]
  },
  {
   "cell_type": "code",
   "execution_count": null,
   "metadata": {},
   "outputs": [],
   "source": []
  }
 ],
 "metadata": {
  "kernelspec": {
   "display_name": "Python 3",
   "language": "python",
   "name": "python3"
  },
  "language_info": {
   "codemirror_mode": {
    "name": "ipython",
    "version": 3
   },
   "file_extension": ".py",
   "mimetype": "text/x-python",
   "name": "python",
   "nbconvert_exporter": "python",
   "pygments_lexer": "ipython3",
   "version": "3.8.5"
  }
 },
 "nbformat": 4,
 "nbformat_minor": 4
}
