{
 "cells": [
  {
   "cell_type": "code",
   "execution_count": 1,
   "metadata": {},
   "outputs": [],
   "source": [
    "import pickle\n",
    "import collections"
   ]
  },
  {
   "cell_type": "code",
   "execution_count": 2,
   "metadata": {},
   "outputs": [],
   "source": [
    "with open('./Caption_description.pkl','rb') as f:\n",
    "    Caption_dict = pickle.load(f)"
   ]
  },
  {
   "cell_type": "markdown",
   "metadata": {},
   "source": [
    "`Build A vocab with frequent words [threshold > 10]`\n",
    "\n",
    "- Create a vocab with unique words\n",
    "- Create a list with all words.\n",
    "- Extract those word, frequency/threshold > 10"
   ]
  },
  {
   "cell_type": "code",
   "execution_count": 3,
   "metadata": {},
   "outputs": [
    {
     "name": "stdout",
     "output_type": "stream",
     "text": [
      "No. of unique words: 8424, No. of Total word: 373837\n"
     ]
    }
   ],
   "source": [
    "# Create a set of Vocabulary and a list of all words in Caption_dict\n",
    "vocab = set()\n",
    "total_word = []\n",
    "for key in Caption_dict.keys():\n",
    "    [vocab.update(sentence.split()) for sentence in Caption_dict[key]]\n",
    "    [total_word.append(word) for sentence in Caption_dict[key] for word in sentence.split()]\n",
    "    \n",
    "print(f'No. of unique words: {len(vocab)}, No. of Total word: {len(total_word)}')"
   ]
  },
  {
   "cell_type": "code",
   "execution_count": 4,
   "metadata": {},
   "outputs": [
    {
     "name": "stdout",
     "output_type": "stream",
     "text": [
      "1956\n"
     ]
    }
   ],
   "source": [
    "# Exract words which have word frequency >10\n",
    "threshold = 10\n",
    "counter = collections.Counter(total_word)\n",
    "freq_count = dict(counter)\n",
    "\n",
    "extracted_words = [item[0] for item in freq_count.items() if item[1] >= threshold]\n",
    "print(len(extracted_words))"
   ]
  },
  {
   "cell_type": "code",
   "execution_count": null,
   "metadata": {},
   "outputs": [],
   "source": []
  }
 ],
 "metadata": {
  "kernelspec": {
   "display_name": "Python 3",
   "language": "python",
   "name": "python3"
  },
  "language_info": {
   "codemirror_mode": {
    "name": "ipython",
    "version": 3
   },
   "file_extension": ".py",
   "mimetype": "text/x-python",
   "name": "python",
   "nbconvert_exporter": "python",
   "pygments_lexer": "ipython3",
   "version": "3.8.5"
  }
 },
 "nbformat": 4,
 "nbformat_minor": 4
}
