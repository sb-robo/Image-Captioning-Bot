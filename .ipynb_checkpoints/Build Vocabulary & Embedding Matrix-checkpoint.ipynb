{
 "cells": [
  {
   "cell_type": "code",
   "execution_count": 1,
   "metadata": {},
   "outputs": [],
   "source": [
    "import pickle\n",
    "import collections\n",
    "import numpy as np"
   ]
  },
  {
   "cell_type": "code",
   "execution_count": 2,
   "metadata": {},
   "outputs": [],
   "source": [
    "with open('./Caption_description.pkl','rb') as f:\n",
    "    Caption_dict = pickle.load(f)"
   ]
  },
  {
   "cell_type": "markdown",
   "metadata": {},
   "source": [
    "`Build A vocab with frequent words [threshold > 10]`\n",
    "\n",
    "- Create a vocab with unique words\n",
    "- Create a list with all words.\n",
    "- Extract those word, frequency/threshold > 10"
   ]
  },
  {
   "cell_type": "code",
   "execution_count": 3,
   "metadata": {},
   "outputs": [
    {
     "name": "stdout",
     "output_type": "stream",
     "text": [
      "No. of unique words: 8424, No. of Total word: 373837\n"
     ]
    }
   ],
   "source": [
    "# Create a set of Vocabulary and a list of all words in Caption_dict\n",
    "vocab = set()\n",
    "total_word = []\n",
    "for key in Caption_dict.keys():\n",
    "    [vocab.update(sentence.split()) for sentence in Caption_dict[key]]\n",
    "    [total_word.append(word) for sentence in Caption_dict[key] for word in sentence.split()]\n",
    "    \n",
    "print(f'No. of unique words: {len(vocab)}, No. of Total word: {len(total_word)}')"
   ]
  },
  {
   "cell_type": "code",
   "execution_count": 4,
   "metadata": {},
   "outputs": [
    {
     "name": "stdout",
     "output_type": "stream",
     "text": [
      "1956\n"
     ]
    }
   ],
   "source": [
    "# Exract words which have word frequency >10\n",
    "threshold = 10\n",
    "counter = collections.Counter(total_word)\n",
    "freq_count = dict(counter)\n",
    "\n",
    "extracted_words = [item[0] for item in freq_count.items() if item[1] >= threshold]\n",
    "print(len(extracted_words))"
   ]
  },
  {
   "cell_type": "markdown",
   "metadata": {},
   "source": [
    "Import `Flickr_8k.trainImages.txt` File:"
   ]
  },
  {
   "cell_type": "code",
   "execution_count": 5,
   "metadata": {},
   "outputs": [],
   "source": [
    "with open('../Dataset/Flickr8k/Flickr_TextData/Flickr_8k.trainImages.txt', encoding = 'utf-8') as f:\n",
    "    trainfile = f.readlines()"
   ]
  },
  {
   "cell_type": "code",
   "execution_count": 6,
   "metadata": {},
   "outputs": [],
   "source": [
    "train = [image_name.split('\\n')[0] for image_name in trainfile]"
   ]
  },
  {
   "cell_type": "code",
   "execution_count": 7,
   "metadata": {},
   "outputs": [],
   "source": [
    "# create a dict with train captions\n",
    "\n",
    "train_caption = {}\n",
    "\n",
    "for image_name in train:\n",
    "    train_caption[image_name] = []\n",
    "    for caption in Caption_dict[image_name]:\n",
    "        caption = '<start>' + caption + '<end>'\n",
    "        \n",
    "        train_caption[image_name].append(caption)"
   ]
  },
  {
   "cell_type": "code",
   "execution_count": 8,
   "metadata": {},
   "outputs": [
    {
     "data": {
      "text/plain": [
       "6000"
      ]
     },
     "execution_count": 8,
     "metadata": {},
     "output_type": "execute_result"
    }
   ],
   "source": [
    "len(train_caption)"
   ]
  },
  {
   "cell_type": "code",
   "execution_count": 9,
   "metadata": {},
   "outputs": [],
   "source": [
    "# create a word to index dictionary\n",
    "\n",
    "word_to_idx = {}\n",
    "idx_to_word = {}\n",
    "\n",
    "for i,word in enumerate(extracted_words):\n",
    "    word_to_idx[word] = i+1\n",
    "    idx_to_word[i+1] = word\n",
    "    \n",
    "length = len(word_to_idx)\n",
    "\n",
    "word_to_idx['<start>'] = length + 1\n",
    "word_to_idx['<end>'] = length + 2\n",
    "\n",
    "idx_to_word[length + 1] = '<start>'\n",
    "idx_to_word[length + 2] = '<end>'"
   ]
  },
  {
   "cell_type": "code",
   "execution_count": 10,
   "metadata": {},
   "outputs": [],
   "source": [
    "with open('Word_to_index.pkl.pkl','wb') as f:\n",
    "    pickle.dump(word_to_idx,f)\n",
    "    \n",
    "with open('Index_to_word.pkl','wb') as f:\n",
    "    pickle.dump(idx_to_word,f)"
   ]
  },
  {
   "cell_type": "code",
   "execution_count": 11,
   "metadata": {},
   "outputs": [
    {
     "name": "stdout",
     "output_type": "stream",
     "text": [
      "33\n"
     ]
    }
   ],
   "source": [
    "# Find max lengh caption\n",
    "\n",
    "max_length = 0\n",
    "for img_name in train_caption.keys():\n",
    "    for caption in train_caption[img_name]:\n",
    "        \n",
    "        max_length = max(max_length,len(caption.split()))\n",
    "        \n",
    "print(max_length)"
   ]
  },
  {
   "cell_type": "markdown",
   "metadata": {},
   "source": [
    "Build `Embedding Matrix`\n",
    "\n",
    "We will map the every word(index) to a `50d vector` and for this purpose, we will use a pre-trained `GLOVE Model`:"
   ]
  },
  {
   "cell_type": "code",
   "execution_count": 12,
   "metadata": {},
   "outputs": [],
   "source": [
    "embedding_idx = {}\n",
    "\n",
    "with open('../Dataset/glove.6B/glove.6B.50d.txt',encoding='utf-8') as f:\n",
    "    for line in f:\n",
    "        values =line.split()\n",
    "        word = values[0]\n",
    "        word_embedding = np.array(values[1:],dtype='float')\n",
    "        embedding_idx[word] = word_embedding"
   ]
  },
  {
   "cell_type": "code",
   "execution_count": 13,
   "metadata": {},
   "outputs": [],
   "source": [
    "def get_embedding_matrix():\n",
    "    emb_dim = 50\n",
    "    vocab_size = len(word_to_idx)+1\n",
    "    matrix = np.zeros((vocab_size,emb_dim))\n",
    "    \n",
    "    for word,idx in word_to_idx.items():\n",
    "        emb_vector = embedding_idx.get(word)\n",
    "        \n",
    "        if emb_vector is not None:\n",
    "            matrix[idx] = emb_vector\n",
    "            \n",
    "    return matrix"
   ]
  },
  {
   "cell_type": "code",
   "execution_count": 14,
   "metadata": {},
   "outputs": [],
   "source": [
    "emb_mat = get_embedding_matrix()"
   ]
  },
  {
   "cell_type": "code",
   "execution_count": 15,
   "metadata": {},
   "outputs": [],
   "source": [
    "np.save('embedding_matrix.npy',emb_mat)"
   ]
  },
  {
   "cell_type": "code",
   "execution_count": null,
   "metadata": {},
   "outputs": [],
   "source": []
  }
 ],
 "metadata": {
  "kernelspec": {
   "display_name": "Python 3",
   "language": "python",
   "name": "python3"
  },
  "language_info": {
   "codemirror_mode": {
    "name": "ipython",
    "version": 3
   },
   "file_extension": ".py",
   "mimetype": "text/x-python",
   "name": "python",
   "nbconvert_exporter": "python",
   "pygments_lexer": "ipython3",
   "version": "3.8.5"
  }
 },
 "nbformat": 4,
 "nbformat_minor": 4
}
